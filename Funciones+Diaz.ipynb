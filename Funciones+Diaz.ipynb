{
 "cells": [
  {
   "cell_type": "code",
   "execution_count": 13,
   "id": "69560b83-5136-4de9-ae6f-4089c309e463",
   "metadata": {},
   "outputs": [
    {
     "data": {
      "text/plain": [
       "('El factorial de', 7, 'es: ', 5040)"
      ]
     },
     "execution_count": 13,
     "metadata": {},
     "output_type": "execute_result"
    }
   ],
   "source": [
    "def fact(numero): #Esta función calcula el factorial de cualquier número\n",
    "    factorial = 1\n",
    "    if numero != 0:\n",
    "        for x in range (1, numero+1):\n",
    "            factorial = factorial * x\n",
    "        return (\"El factorial de\", numero ,\"es: \",factorial)\n",
    "\n",
    "fact(7)"
   ]
  },
  {
   "cell_type": "code",
   "execution_count": 2,
   "id": "53cab1fa-6ad5-4901-8ab1-ef501d07a1a5",
   "metadata": {},
   "outputs": [
    {
     "data": {
      "text/plain": [
       "52"
      ]
     },
     "execution_count": 2,
     "metadata": {},
     "output_type": "execute_result"
    }
   ],
   "source": [
    "def sumatoria(x,y):\n",
    "    '''Esta función calcula la sumatoria desde un número a otro sabiendo que el primero siempre será menor que el segundo\n",
    "    Args: x - primer número y siempre menor a y\n",
    "          y - segúndo número mayor que x'''\n",
    "    suma = 0\n",
    "    for i in range(x,y+1):\n",
    "        suma += i\n",
    "    return suma\n",
    "sumatoria(3,10)"
   ]
  },
  {
   "cell_type": "code",
   "execution_count": 15,
   "id": "97b13d99-482b-4d8f-bc80-a3a28fb68ff8",
   "metadata": {},
   "outputs": [],
   "source": []
  }
 ],
 "metadata": {
  "kernelspec": {
   "display_name": "Python 3",
   "language": "python",
   "name": "python3"
  },
  "language_info": {
   "codemirror_mode": {
    "name": "ipython",
    "version": 3
   },
   "file_extension": ".py",
   "mimetype": "text/x-python",
   "name": "python",
   "nbconvert_exporter": "python",
   "pygments_lexer": "ipython3",
   "version": "3.8.8"
  }
 },
 "nbformat": 4,
 "nbformat_minor": 5
}
